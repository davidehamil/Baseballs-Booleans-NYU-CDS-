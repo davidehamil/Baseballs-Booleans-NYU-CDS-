{
 "cells": [
  {
   "cell_type": "code",
   "execution_count": 8,
   "metadata": {
    "collapsed": false
   },
   "outputs": [],
   "source": [
    "import pandas as pd\n",
    "import numpy as np\n",
    "\n",
    "\n",
    "from sklearn.datasets import make_classification\n",
    "from sklearn.ensemble import ExtraTreesClassifier\n",
    "\n",
    "from sklearn.linear_model import LogisticRegression\n",
    "from sklearn.ensemble import (RandomTreesEmbedding, RandomForestClassifier,\n",
    "                             GradientBoostingClassifier)\n",
    "from sklearn import preprocessing\n",
    "from sklearn.preprocessing import OneHotEncoder\n",
    "from sklearn.metrics import roc_curve\n",
    "from sklearn.pipeline import make_pipeline\n",
    "import matplotlib.pyplot as plt\n",
    "%matplotlib inline"
   ]
  },
  {
   "cell_type": "code",
   "execution_count": 9,
   "metadata": {
    "collapsed": true
   },
   "outputs": [],
   "source": [
    "pd.set_option('display.max_columns', None)"
   ]
  },
  {
   "cell_type": "code",
   "execution_count": 10,
   "metadata": {
    "collapsed": false
   },
   "outputs": [
    {
     "data": {
      "text/plain": [
       "(2169466, 52)"
      ]
     },
     "execution_count": 10,
     "metadata": {},
     "output_type": "execute_result"
    }
   ],
   "source": [
    "data=pd.read_csv('/Users/Brenton/BB_project/clean_master-2.csv', index_col = 0, low_memory=False)\n",
    "data.shape"
   ]
  },
  {
   "cell_type": "markdown",
   "metadata": {},
   "source": [
    "#### Split \"data\" into 1) training+validation and 2) test sets\n",
    "\n",
    "#### Once this split is completed, I dropped the \"year\" and \"month\" columns, because they aren't used in the actual model."
   ]
  },
  {
   "cell_type": "code",
   "execution_count": 37,
   "metadata": {
    "collapsed": false
   },
   "outputs": [
    {
     "data": {
      "text/plain": [
       "1430361"
      ]
     },
     "execution_count": 37,
     "metadata": {},
     "output_type": "execute_result"
    }
   ],
   "source": [
    "model_data = data[(data['year'] != 2016)]\n",
    "test_data = data[data['year'] == 2016]\n",
    "\n",
    "model_data = model_data.drop(['year', 'Months'], 1)\n",
    "test_data = test_data.drop(['year', 'Months'], 1)\n",
    "\n",
    "length = len(model_data)\n",
    "length"
   ]
  },
  {
   "cell_type": "code",
   "execution_count": 42,
   "metadata": {
    "collapsed": false
   },
   "outputs": [
    {
     "data": {
      "text/html": [
       "<div>\n",
       "<table border=\"1\" class=\"dataframe\">\n",
       "  <thead>\n",
       "    <tr style=\"text-align: right;\">\n",
       "      <th></th>\n",
       "      <th>pit_hand_cd</th>\n",
       "      <th>bat_hand_cd</th>\n",
       "      <th>pa_ball_ct</th>\n",
       "      <th>pa_strike_ct</th>\n",
       "      <th>outs_ct</th>\n",
       "      <th>pitch_type</th>\n",
       "      <th>n-1_pitch_type</th>\n",
       "      <th>n-2_pitch_type</th>\n",
       "      <th>n-3_pitch_type</th>\n",
       "      <th>n-1_pitch</th>\n",
       "      <th>n-2_pitch</th>\n",
       "      <th>n-3_pitch</th>\n",
       "      <th>cum_pitch_count</th>\n",
       "      <th>batter_position</th>\n",
       "      <th>AVG</th>\n",
       "      <th>OBP</th>\n",
       "      <th>SLG</th>\n",
       "      <th>SWING_RT</th>\n",
       "      <th>CONTACT_RT</th>\n",
       "      <th>O_SWING_RT</th>\n",
       "      <th>O_CONTACT_RT</th>\n",
       "      <th>Pitches_Per_PA</th>\n",
       "      <th>Pitcher_Age</th>\n",
       "      <th>HR9</th>\n",
       "      <th>UBBr</th>\n",
       "      <th>SOr</th>\n",
       "      <th>SO/BB</th>\n",
       "      <th>WHIP</th>\n",
       "      <th>ERA</th>\n",
       "      <th>FB%</th>\n",
       "      <th>GB%</th>\n",
       "      <th>LD%</th>\n",
       "      <th>POP%</th>\n",
       "      <th>pct_FF</th>\n",
       "      <th>pct_FT</th>\n",
       "      <th>pct_FC</th>\n",
       "      <th>pct_SI</th>\n",
       "      <th>pct_CH</th>\n",
       "      <th>pct_CU</th>\n",
       "      <th>pct_SL</th>\n",
       "      <th>pct_KC</th>\n",
       "      <th>score_position</th>\n",
       "      <th>isMiss_n-1_pit_type</th>\n",
       "      <th>isMiss_n-2_pit_type</th>\n",
       "      <th>isMiss_n-3_pit_type</th>\n",
       "      <th>isMiss_n-1_pit_resut</th>\n",
       "      <th>isMiss_n-2_pit_resut</th>\n",
       "      <th>isMiss_n-3_pit_resut</th>\n",
       "      <th>isMiss_pit_feat</th>\n",
       "      <th>isMiss_bat_feat</th>\n",
       "    </tr>\n",
       "  </thead>\n",
       "  <tbody>\n",
       "    <tr>\n",
       "      <th>0</th>\n",
       "      <td>1</td>\n",
       "      <td>0</td>\n",
       "      <td>0</td>\n",
       "      <td>0</td>\n",
       "      <td>0</td>\n",
       "      <td>1.0</td>\n",
       "      <td>9.0</td>\n",
       "      <td>9.0</td>\n",
       "      <td>9.0</td>\n",
       "      <td>9.0</td>\n",
       "      <td>9.0</td>\n",
       "      <td>9.0</td>\n",
       "      <td>1</td>\n",
       "      <td>1</td>\n",
       "      <td>0.254</td>\n",
       "      <td>0.349</td>\n",
       "      <td>0.427</td>\n",
       "      <td>0.439</td>\n",
       "      <td>0.7793</td>\n",
       "      <td>0.3067</td>\n",
       "      <td>0.7162</td>\n",
       "      <td>4.059091</td>\n",
       "      <td>27.0</td>\n",
       "      <td>0.9</td>\n",
       "      <td>0.084</td>\n",
       "      <td>0.186</td>\n",
       "      <td>2.18</td>\n",
       "      <td>1.36</td>\n",
       "      <td>4.18</td>\n",
       "      <td>0.1893</td>\n",
       "      <td>0.5143</td>\n",
       "      <td>0.2643</td>\n",
       "      <td>0.0321</td>\n",
       "      <td>0.331252</td>\n",
       "      <td>0.182714</td>\n",
       "      <td>0.001972</td>\n",
       "      <td>0.0</td>\n",
       "      <td>0.017746</td>\n",
       "      <td>0.209333</td>\n",
       "      <td>0.255012</td>\n",
       "      <td>0.0</td>\n",
       "      <td>0</td>\n",
       "      <td>1</td>\n",
       "      <td>1</td>\n",
       "      <td>1</td>\n",
       "      <td>1</td>\n",
       "      <td>1</td>\n",
       "      <td>1</td>\n",
       "      <td>0</td>\n",
       "      <td>0</td>\n",
       "    </tr>\n",
       "    <tr>\n",
       "      <th>1</th>\n",
       "      <td>1</td>\n",
       "      <td>0</td>\n",
       "      <td>1</td>\n",
       "      <td>0</td>\n",
       "      <td>0</td>\n",
       "      <td>1.0</td>\n",
       "      <td>1.0</td>\n",
       "      <td>9.0</td>\n",
       "      <td>9.0</td>\n",
       "      <td>1.0</td>\n",
       "      <td>9.0</td>\n",
       "      <td>9.0</td>\n",
       "      <td>2</td>\n",
       "      <td>1</td>\n",
       "      <td>0.254</td>\n",
       "      <td>0.349</td>\n",
       "      <td>0.427</td>\n",
       "      <td>0.439</td>\n",
       "      <td>0.7793</td>\n",
       "      <td>0.3067</td>\n",
       "      <td>0.7162</td>\n",
       "      <td>4.059091</td>\n",
       "      <td>27.0</td>\n",
       "      <td>0.9</td>\n",
       "      <td>0.084</td>\n",
       "      <td>0.186</td>\n",
       "      <td>2.18</td>\n",
       "      <td>1.36</td>\n",
       "      <td>4.18</td>\n",
       "      <td>0.1893</td>\n",
       "      <td>0.5143</td>\n",
       "      <td>0.2643</td>\n",
       "      <td>0.0321</td>\n",
       "      <td>0.331252</td>\n",
       "      <td>0.182714</td>\n",
       "      <td>0.001972</td>\n",
       "      <td>0.0</td>\n",
       "      <td>0.017746</td>\n",
       "      <td>0.209333</td>\n",
       "      <td>0.255012</td>\n",
       "      <td>0.0</td>\n",
       "      <td>0</td>\n",
       "      <td>0</td>\n",
       "      <td>1</td>\n",
       "      <td>1</td>\n",
       "      <td>1</td>\n",
       "      <td>1</td>\n",
       "      <td>1</td>\n",
       "      <td>0</td>\n",
       "      <td>0</td>\n",
       "    </tr>\n",
       "    <tr>\n",
       "      <th>2</th>\n",
       "      <td>1</td>\n",
       "      <td>0</td>\n",
       "      <td>2</td>\n",
       "      <td>0</td>\n",
       "      <td>0</td>\n",
       "      <td>1.0</td>\n",
       "      <td>1.0</td>\n",
       "      <td>1.0</td>\n",
       "      <td>9.0</td>\n",
       "      <td>1.0</td>\n",
       "      <td>1.0</td>\n",
       "      <td>9.0</td>\n",
       "      <td>3</td>\n",
       "      <td>1</td>\n",
       "      <td>0.254</td>\n",
       "      <td>0.349</td>\n",
       "      <td>0.427</td>\n",
       "      <td>0.439</td>\n",
       "      <td>0.7793</td>\n",
       "      <td>0.3067</td>\n",
       "      <td>0.7162</td>\n",
       "      <td>4.059091</td>\n",
       "      <td>27.0</td>\n",
       "      <td>0.9</td>\n",
       "      <td>0.084</td>\n",
       "      <td>0.186</td>\n",
       "      <td>2.18</td>\n",
       "      <td>1.36</td>\n",
       "      <td>4.18</td>\n",
       "      <td>0.1893</td>\n",
       "      <td>0.5143</td>\n",
       "      <td>0.2643</td>\n",
       "      <td>0.0321</td>\n",
       "      <td>0.331252</td>\n",
       "      <td>0.182714</td>\n",
       "      <td>0.001972</td>\n",
       "      <td>0.0</td>\n",
       "      <td>0.017746</td>\n",
       "      <td>0.209333</td>\n",
       "      <td>0.255012</td>\n",
       "      <td>0.0</td>\n",
       "      <td>0</td>\n",
       "      <td>0</td>\n",
       "      <td>0</td>\n",
       "      <td>1</td>\n",
       "      <td>0</td>\n",
       "      <td>0</td>\n",
       "      <td>1</td>\n",
       "      <td>0</td>\n",
       "      <td>0</td>\n",
       "    </tr>\n",
       "    <tr>\n",
       "      <th>3</th>\n",
       "      <td>1</td>\n",
       "      <td>1</td>\n",
       "      <td>0</td>\n",
       "      <td>0</td>\n",
       "      <td>0</td>\n",
       "      <td>1.0</td>\n",
       "      <td>9.0</td>\n",
       "      <td>9.0</td>\n",
       "      <td>9.0</td>\n",
       "      <td>9.0</td>\n",
       "      <td>9.0</td>\n",
       "      <td>9.0</td>\n",
       "      <td>4</td>\n",
       "      <td>2</td>\n",
       "      <td>0.184</td>\n",
       "      <td>0.268</td>\n",
       "      <td>0.289</td>\n",
       "      <td>0.463</td>\n",
       "      <td>0.6562</td>\n",
       "      <td>0.2601</td>\n",
       "      <td>0.5205</td>\n",
       "      <td>3.845291</td>\n",
       "      <td>27.0</td>\n",
       "      <td>0.9</td>\n",
       "      <td>0.084</td>\n",
       "      <td>0.186</td>\n",
       "      <td>2.18</td>\n",
       "      <td>1.36</td>\n",
       "      <td>4.18</td>\n",
       "      <td>0.1893</td>\n",
       "      <td>0.5143</td>\n",
       "      <td>0.2643</td>\n",
       "      <td>0.0321</td>\n",
       "      <td>0.331252</td>\n",
       "      <td>0.182714</td>\n",
       "      <td>0.001972</td>\n",
       "      <td>0.0</td>\n",
       "      <td>0.017746</td>\n",
       "      <td>0.209333</td>\n",
       "      <td>0.255012</td>\n",
       "      <td>0.0</td>\n",
       "      <td>0</td>\n",
       "      <td>1</td>\n",
       "      <td>1</td>\n",
       "      <td>1</td>\n",
       "      <td>1</td>\n",
       "      <td>1</td>\n",
       "      <td>1</td>\n",
       "      <td>0</td>\n",
       "      <td>0</td>\n",
       "    </tr>\n",
       "    <tr>\n",
       "      <th>4</th>\n",
       "      <td>1</td>\n",
       "      <td>1</td>\n",
       "      <td>1</td>\n",
       "      <td>0</td>\n",
       "      <td>0</td>\n",
       "      <td>2.0</td>\n",
       "      <td>1.0</td>\n",
       "      <td>9.0</td>\n",
       "      <td>9.0</td>\n",
       "      <td>1.0</td>\n",
       "      <td>9.0</td>\n",
       "      <td>9.0</td>\n",
       "      <td>5</td>\n",
       "      <td>2</td>\n",
       "      <td>0.184</td>\n",
       "      <td>0.268</td>\n",
       "      <td>0.289</td>\n",
       "      <td>0.463</td>\n",
       "      <td>0.6562</td>\n",
       "      <td>0.2601</td>\n",
       "      <td>0.5205</td>\n",
       "      <td>3.845291</td>\n",
       "      <td>27.0</td>\n",
       "      <td>0.9</td>\n",
       "      <td>0.084</td>\n",
       "      <td>0.186</td>\n",
       "      <td>2.18</td>\n",
       "      <td>1.36</td>\n",
       "      <td>4.18</td>\n",
       "      <td>0.1893</td>\n",
       "      <td>0.5143</td>\n",
       "      <td>0.2643</td>\n",
       "      <td>0.0321</td>\n",
       "      <td>0.331252</td>\n",
       "      <td>0.182714</td>\n",
       "      <td>0.001972</td>\n",
       "      <td>0.0</td>\n",
       "      <td>0.017746</td>\n",
       "      <td>0.209333</td>\n",
       "      <td>0.255012</td>\n",
       "      <td>0.0</td>\n",
       "      <td>0</td>\n",
       "      <td>0</td>\n",
       "      <td>1</td>\n",
       "      <td>1</td>\n",
       "      <td>1</td>\n",
       "      <td>1</td>\n",
       "      <td>1</td>\n",
       "      <td>0</td>\n",
       "      <td>0</td>\n",
       "    </tr>\n",
       "  </tbody>\n",
       "</table>\n",
       "</div>"
      ],
      "text/plain": [
       "   pit_hand_cd  bat_hand_cd  pa_ball_ct  pa_strike_ct  outs_ct  pitch_type  \\\n",
       "0            1            0           0             0        0         1.0   \n",
       "1            1            0           1             0        0         1.0   \n",
       "2            1            0           2             0        0         1.0   \n",
       "3            1            1           0             0        0         1.0   \n",
       "4            1            1           1             0        0         2.0   \n",
       "\n",
       "   n-1_pitch_type  n-2_pitch_type  n-3_pitch_type  n-1_pitch  n-2_pitch  \\\n",
       "0             9.0             9.0             9.0        9.0        9.0   \n",
       "1             1.0             9.0             9.0        1.0        9.0   \n",
       "2             1.0             1.0             9.0        1.0        1.0   \n",
       "3             9.0             9.0             9.0        9.0        9.0   \n",
       "4             1.0             9.0             9.0        1.0        9.0   \n",
       "\n",
       "   n-3_pitch  cum_pitch_count  batter_position    AVG    OBP    SLG  SWING_RT  \\\n",
       "0        9.0                1                1  0.254  0.349  0.427     0.439   \n",
       "1        9.0                2                1  0.254  0.349  0.427     0.439   \n",
       "2        9.0                3                1  0.254  0.349  0.427     0.439   \n",
       "3        9.0                4                2  0.184  0.268  0.289     0.463   \n",
       "4        9.0                5                2  0.184  0.268  0.289     0.463   \n",
       "\n",
       "   CONTACT_RT  O_SWING_RT  O_CONTACT_RT  Pitches_Per_PA  Pitcher_Age  HR9  \\\n",
       "0      0.7793      0.3067        0.7162        4.059091         27.0  0.9   \n",
       "1      0.7793      0.3067        0.7162        4.059091         27.0  0.9   \n",
       "2      0.7793      0.3067        0.7162        4.059091         27.0  0.9   \n",
       "3      0.6562      0.2601        0.5205        3.845291         27.0  0.9   \n",
       "4      0.6562      0.2601        0.5205        3.845291         27.0  0.9   \n",
       "\n",
       "    UBBr    SOr  SO/BB  WHIP   ERA     FB%     GB%     LD%    POP%    pct_FF  \\\n",
       "0  0.084  0.186   2.18  1.36  4.18  0.1893  0.5143  0.2643  0.0321  0.331252   \n",
       "1  0.084  0.186   2.18  1.36  4.18  0.1893  0.5143  0.2643  0.0321  0.331252   \n",
       "2  0.084  0.186   2.18  1.36  4.18  0.1893  0.5143  0.2643  0.0321  0.331252   \n",
       "3  0.084  0.186   2.18  1.36  4.18  0.1893  0.5143  0.2643  0.0321  0.331252   \n",
       "4  0.084  0.186   2.18  1.36  4.18  0.1893  0.5143  0.2643  0.0321  0.331252   \n",
       "\n",
       "     pct_FT    pct_FC  pct_SI    pct_CH    pct_CU    pct_SL  pct_KC  \\\n",
       "0  0.182714  0.001972     0.0  0.017746  0.209333  0.255012     0.0   \n",
       "1  0.182714  0.001972     0.0  0.017746  0.209333  0.255012     0.0   \n",
       "2  0.182714  0.001972     0.0  0.017746  0.209333  0.255012     0.0   \n",
       "3  0.182714  0.001972     0.0  0.017746  0.209333  0.255012     0.0   \n",
       "4  0.182714  0.001972     0.0  0.017746  0.209333  0.255012     0.0   \n",
       "\n",
       "   score_position  isMiss_n-1_pit_type  isMiss_n-2_pit_type  \\\n",
       "0               0                    1                    1   \n",
       "1               0                    0                    1   \n",
       "2               0                    0                    0   \n",
       "3               0                    1                    1   \n",
       "4               0                    0                    1   \n",
       "\n",
       "   isMiss_n-3_pit_type  isMiss_n-1_pit_resut  isMiss_n-2_pit_resut  \\\n",
       "0                    1                     1                     1   \n",
       "1                    1                     1                     1   \n",
       "2                    1                     0                     0   \n",
       "3                    1                     1                     1   \n",
       "4                    1                     1                     1   \n",
       "\n",
       "   isMiss_n-3_pit_resut  isMiss_pit_feat  isMiss_bat_feat  \n",
       "0                     1                0                0  \n",
       "1                     1                0                0  \n",
       "2                     1                0                0  \n",
       "3                     1                0                0  \n",
       "4                     1                0                0  "
      ]
     },
     "execution_count": 42,
     "metadata": {},
     "output_type": "execute_result"
    }
   ],
   "source": [
    "model_data.head()"
   ]
  },
  {
   "cell_type": "code",
   "execution_count": null,
   "metadata": {
    "collapsed": true
   },
   "outputs": [],
   "source": [
    "#data = data.drop('Unnamed: 0.1',1)"
   ]
  },
  {
   "cell_type": "markdown",
   "metadata": {},
   "source": [
    "#### Minor edit here - used the name \"data_validation\", NOT \"data_test\" "
   ]
  },
  {
   "cell_type": "code",
   "execution_count": 39,
   "metadata": {
    "collapsed": false
   },
   "outputs": [],
   "source": [
    "#split train and validation sample\n",
    "rand = list(range(length))\n",
    "split= int(length*0.8)\n",
    "np.random.shuffle(rand)\n",
    "train_index=rand[:split]\n",
    "validation_index=rand[split:]\n",
    "data_train=model_data.iloc[train_index,:]\n",
    "data_validation=model_data.iloc[validation_index,:]\n",
    "lab = 'pitch_type'"
   ]
  },
  {
   "cell_type": "code",
   "execution_count": 40,
   "metadata": {
    "collapsed": false,
    "scrolled": true
   },
   "outputs": [
    {
     "data": {
      "text/plain": [
       "(286073, 1144288)"
      ]
     },
     "execution_count": 40,
     "metadata": {},
     "output_type": "execute_result"
    }
   ],
   "source": [
    "len(data_validation), len(data_train)"
   ]
  },
  {
   "cell_type": "code",
   "execution_count": 41,
   "metadata": {
    "collapsed": false
   },
   "outputs": [
    {
     "data": {
      "text/html": [
       "<div>\n",
       "<table border=\"1\" class=\"dataframe\">\n",
       "  <thead>\n",
       "    <tr style=\"text-align: right;\">\n",
       "      <th></th>\n",
       "      <th>pit_hand_cd</th>\n",
       "      <th>bat_hand_cd</th>\n",
       "      <th>pa_ball_ct</th>\n",
       "      <th>pa_strike_ct</th>\n",
       "      <th>outs_ct</th>\n",
       "      <th>pitch_type</th>\n",
       "      <th>n-1_pitch_type</th>\n",
       "      <th>n-2_pitch_type</th>\n",
       "      <th>n-3_pitch_type</th>\n",
       "      <th>n-1_pitch</th>\n",
       "      <th>n-2_pitch</th>\n",
       "      <th>n-3_pitch</th>\n",
       "      <th>cum_pitch_count</th>\n",
       "      <th>batter_position</th>\n",
       "      <th>AVG</th>\n",
       "      <th>OBP</th>\n",
       "      <th>SLG</th>\n",
       "      <th>SWING_RT</th>\n",
       "      <th>CONTACT_RT</th>\n",
       "      <th>O_SWING_RT</th>\n",
       "      <th>O_CONTACT_RT</th>\n",
       "      <th>Pitches_Per_PA</th>\n",
       "      <th>Pitcher_Age</th>\n",
       "      <th>HR9</th>\n",
       "      <th>UBBr</th>\n",
       "      <th>SOr</th>\n",
       "      <th>SO/BB</th>\n",
       "      <th>WHIP</th>\n",
       "      <th>ERA</th>\n",
       "      <th>FB%</th>\n",
       "      <th>GB%</th>\n",
       "      <th>LD%</th>\n",
       "      <th>POP%</th>\n",
       "      <th>pct_FF</th>\n",
       "      <th>pct_FT</th>\n",
       "      <th>pct_FC</th>\n",
       "      <th>pct_SI</th>\n",
       "      <th>pct_CH</th>\n",
       "      <th>pct_CU</th>\n",
       "      <th>pct_SL</th>\n",
       "      <th>pct_KC</th>\n",
       "      <th>score_position</th>\n",
       "      <th>isMiss_n-1_pit_type</th>\n",
       "      <th>isMiss_n-2_pit_type</th>\n",
       "      <th>isMiss_n-3_pit_type</th>\n",
       "      <th>isMiss_n-1_pit_resut</th>\n",
       "      <th>isMiss_n-2_pit_resut</th>\n",
       "      <th>isMiss_n-3_pit_resut</th>\n",
       "      <th>isMiss_pit_feat</th>\n",
       "      <th>isMiss_bat_feat</th>\n",
       "    </tr>\n",
       "  </thead>\n",
       "  <tbody>\n",
       "    <tr>\n",
       "      <th>1019201</th>\n",
       "      <td>1</td>\n",
       "      <td>1</td>\n",
       "      <td>1</td>\n",
       "      <td>2</td>\n",
       "      <td>1</td>\n",
       "      <td>2.0</td>\n",
       "      <td>6.0</td>\n",
       "      <td>6.0</td>\n",
       "      <td>2.0</td>\n",
       "      <td>3.0</td>\n",
       "      <td>1.0</td>\n",
       "      <td>3.0</td>\n",
       "      <td>60</td>\n",
       "      <td>6</td>\n",
       "      <td>0.235</td>\n",
       "      <td>0.293</td>\n",
       "      <td>0.415</td>\n",
       "      <td>0.4918</td>\n",
       "      <td>0.6950</td>\n",
       "      <td>0.3369</td>\n",
       "      <td>0.5317</td>\n",
       "      <td>3.701657</td>\n",
       "      <td>26.0</td>\n",
       "      <td>1.040927</td>\n",
       "      <td>0.08223</td>\n",
       "      <td>0.197993</td>\n",
       "      <td>2.585728</td>\n",
       "      <td>1.30</td>\n",
       "      <td>3.87</td>\n",
       "      <td>0.248915</td>\n",
       "      <td>0.445141</td>\n",
       "      <td>0.229734</td>\n",
       "      <td>0.071781</td>\n",
       "      <td>0.358456</td>\n",
       "      <td>0.121086</td>\n",
       "      <td>0.056126</td>\n",
       "      <td>0.092324</td>\n",
       "      <td>0.100703</td>\n",
       "      <td>0.077817</td>\n",
       "      <td>0.141837</td>\n",
       "      <td>0.022735</td>\n",
       "      <td>0</td>\n",
       "      <td>0</td>\n",
       "      <td>0</td>\n",
       "      <td>0</td>\n",
       "      <td>0</td>\n",
       "      <td>0</td>\n",
       "      <td>0</td>\n",
       "      <td>1</td>\n",
       "      <td>0</td>\n",
       "    </tr>\n",
       "    <tr>\n",
       "      <th>785968</th>\n",
       "      <td>0</td>\n",
       "      <td>0</td>\n",
       "      <td>1</td>\n",
       "      <td>2</td>\n",
       "      <td>0</td>\n",
       "      <td>1.0</td>\n",
       "      <td>7.0</td>\n",
       "      <td>6.0</td>\n",
       "      <td>1.0</td>\n",
       "      <td>4.0</td>\n",
       "      <td>1.0</td>\n",
       "      <td>3.0</td>\n",
       "      <td>47</td>\n",
       "      <td>2</td>\n",
       "      <td>0.255</td>\n",
       "      <td>0.390</td>\n",
       "      <td>0.409</td>\n",
       "      <td>0.3955</td>\n",
       "      <td>0.7935</td>\n",
       "      <td>0.2094</td>\n",
       "      <td>0.6357</td>\n",
       "      <td>4.275735</td>\n",
       "      <td>30.0</td>\n",
       "      <td>0.660000</td>\n",
       "      <td>0.05400</td>\n",
       "      <td>0.249000</td>\n",
       "      <td>4.580000</td>\n",
       "      <td>1.10</td>\n",
       "      <td>2.46</td>\n",
       "      <td>0.235300</td>\n",
       "      <td>0.446100</td>\n",
       "      <td>0.223900</td>\n",
       "      <td>0.094800</td>\n",
       "      <td>0.464848</td>\n",
       "      <td>0.000000</td>\n",
       "      <td>0.254984</td>\n",
       "      <td>0.091028</td>\n",
       "      <td>0.030693</td>\n",
       "      <td>0.157922</td>\n",
       "      <td>0.000000</td>\n",
       "      <td>0.000000</td>\n",
       "      <td>0</td>\n",
       "      <td>0</td>\n",
       "      <td>0</td>\n",
       "      <td>0</td>\n",
       "      <td>0</td>\n",
       "      <td>0</td>\n",
       "      <td>0</td>\n",
       "      <td>0</td>\n",
       "      <td>0</td>\n",
       "    </tr>\n",
       "    <tr>\n",
       "      <th>1362099</th>\n",
       "      <td>1</td>\n",
       "      <td>0</td>\n",
       "      <td>0</td>\n",
       "      <td>1</td>\n",
       "      <td>2</td>\n",
       "      <td>1.0</td>\n",
       "      <td>5.0</td>\n",
       "      <td>9.0</td>\n",
       "      <td>9.0</td>\n",
       "      <td>0.0</td>\n",
       "      <td>9.0</td>\n",
       "      <td>9.0</td>\n",
       "      <td>11</td>\n",
       "      <td>3</td>\n",
       "      <td>0.270</td>\n",
       "      <td>0.318</td>\n",
       "      <td>0.398</td>\n",
       "      <td>0.4834</td>\n",
       "      <td>0.8183</td>\n",
       "      <td>0.3606</td>\n",
       "      <td>0.7160</td>\n",
       "      <td>3.808044</td>\n",
       "      <td>26.0</td>\n",
       "      <td>1.040927</td>\n",
       "      <td>0.08223</td>\n",
       "      <td>0.197993</td>\n",
       "      <td>2.585728</td>\n",
       "      <td>1.30</td>\n",
       "      <td>3.87</td>\n",
       "      <td>0.248915</td>\n",
       "      <td>0.445141</td>\n",
       "      <td>0.229734</td>\n",
       "      <td>0.071781</td>\n",
       "      <td>0.358456</td>\n",
       "      <td>0.121086</td>\n",
       "      <td>0.056126</td>\n",
       "      <td>0.092324</td>\n",
       "      <td>0.100703</td>\n",
       "      <td>0.077817</td>\n",
       "      <td>0.141837</td>\n",
       "      <td>0.022735</td>\n",
       "      <td>0</td>\n",
       "      <td>0</td>\n",
       "      <td>1</td>\n",
       "      <td>1</td>\n",
       "      <td>1</td>\n",
       "      <td>1</td>\n",
       "      <td>1</td>\n",
       "      <td>1</td>\n",
       "      <td>0</td>\n",
       "    </tr>\n",
       "    <tr>\n",
       "      <th>789982</th>\n",
       "      <td>0</td>\n",
       "      <td>1</td>\n",
       "      <td>1</td>\n",
       "      <td>2</td>\n",
       "      <td>1</td>\n",
       "      <td>6.0</td>\n",
       "      <td>6.0</td>\n",
       "      <td>6.0</td>\n",
       "      <td>6.0</td>\n",
       "      <td>1.0</td>\n",
       "      <td>4.0</td>\n",
       "      <td>3.0</td>\n",
       "      <td>20</td>\n",
       "      <td>6</td>\n",
       "      <td>0.279</td>\n",
       "      <td>0.324</td>\n",
       "      <td>0.415</td>\n",
       "      <td>0.5830</td>\n",
       "      <td>0.8245</td>\n",
       "      <td>0.4520</td>\n",
       "      <td>0.7911</td>\n",
       "      <td>3.446708</td>\n",
       "      <td>26.0</td>\n",
       "      <td>0.470000</td>\n",
       "      <td>0.08100</td>\n",
       "      <td>0.218000</td>\n",
       "      <td>2.700000</td>\n",
       "      <td>0.90</td>\n",
       "      <td>1.65</td>\n",
       "      <td>0.085400</td>\n",
       "      <td>0.758800</td>\n",
       "      <td>0.135700</td>\n",
       "      <td>0.020100</td>\n",
       "      <td>0.007608</td>\n",
       "      <td>0.000000</td>\n",
       "      <td>0.000000</td>\n",
       "      <td>0.898563</td>\n",
       "      <td>0.000000</td>\n",
       "      <td>0.000000</td>\n",
       "      <td>0.084531</td>\n",
       "      <td>0.000000</td>\n",
       "      <td>1</td>\n",
       "      <td>0</td>\n",
       "      <td>0</td>\n",
       "      <td>0</td>\n",
       "      <td>0</td>\n",
       "      <td>0</td>\n",
       "      <td>0</td>\n",
       "      <td>0</td>\n",
       "      <td>0</td>\n",
       "    </tr>\n",
       "    <tr>\n",
       "      <th>310153</th>\n",
       "      <td>0</td>\n",
       "      <td>1</td>\n",
       "      <td>2</td>\n",
       "      <td>2</td>\n",
       "      <td>1</td>\n",
       "      <td>5.0</td>\n",
       "      <td>1.0</td>\n",
       "      <td>5.0</td>\n",
       "      <td>8.0</td>\n",
       "      <td>4.0</td>\n",
       "      <td>3.0</td>\n",
       "      <td>1.0</td>\n",
       "      <td>34</td>\n",
       "      <td>1</td>\n",
       "      <td>0.260</td>\n",
       "      <td>0.312</td>\n",
       "      <td>0.375</td>\n",
       "      <td>0.5077</td>\n",
       "      <td>0.7921</td>\n",
       "      <td>0.3657</td>\n",
       "      <td>0.6498</td>\n",
       "      <td>3.605556</td>\n",
       "      <td>30.0</td>\n",
       "      <td>1.020000</td>\n",
       "      <td>0.06800</td>\n",
       "      <td>0.169000</td>\n",
       "      <td>2.370000</td>\n",
       "      <td>1.39</td>\n",
       "      <td>4.02</td>\n",
       "      <td>0.256200</td>\n",
       "      <td>0.417400</td>\n",
       "      <td>0.229300</td>\n",
       "      <td>0.097100</td>\n",
       "      <td>0.368818</td>\n",
       "      <td>0.191534</td>\n",
       "      <td>0.011735</td>\n",
       "      <td>0.000000</td>\n",
       "      <td>0.275356</td>\n",
       "      <td>0.000419</td>\n",
       "      <td>0.000000</td>\n",
       "      <td>0.147946</td>\n",
       "      <td>1</td>\n",
       "      <td>0</td>\n",
       "      <td>0</td>\n",
       "      <td>0</td>\n",
       "      <td>0</td>\n",
       "      <td>0</td>\n",
       "      <td>0</td>\n",
       "      <td>0</td>\n",
       "      <td>0</td>\n",
       "    </tr>\n",
       "  </tbody>\n",
       "</table>\n",
       "</div>"
      ],
      "text/plain": [
       "         pit_hand_cd  bat_hand_cd  pa_ball_ct  pa_strike_ct  outs_ct  \\\n",
       "1019201            1            1           1             2        1   \n",
       "785968             0            0           1             2        0   \n",
       "1362099            1            0           0             1        2   \n",
       "789982             0            1           1             2        1   \n",
       "310153             0            1           2             2        1   \n",
       "\n",
       "         pitch_type  n-1_pitch_type  n-2_pitch_type  n-3_pitch_type  \\\n",
       "1019201         2.0             6.0             6.0             2.0   \n",
       "785968          1.0             7.0             6.0             1.0   \n",
       "1362099         1.0             5.0             9.0             9.0   \n",
       "789982          6.0             6.0             6.0             6.0   \n",
       "310153          5.0             1.0             5.0             8.0   \n",
       "\n",
       "         n-1_pitch  n-2_pitch  n-3_pitch  cum_pitch_count  batter_position  \\\n",
       "1019201        3.0        1.0        3.0               60                6   \n",
       "785968         4.0        1.0        3.0               47                2   \n",
       "1362099        0.0        9.0        9.0               11                3   \n",
       "789982         1.0        4.0        3.0               20                6   \n",
       "310153         4.0        3.0        1.0               34                1   \n",
       "\n",
       "           AVG    OBP    SLG  SWING_RT  CONTACT_RT  O_SWING_RT  O_CONTACT_RT  \\\n",
       "1019201  0.235  0.293  0.415    0.4918      0.6950      0.3369        0.5317   \n",
       "785968   0.255  0.390  0.409    0.3955      0.7935      0.2094        0.6357   \n",
       "1362099  0.270  0.318  0.398    0.4834      0.8183      0.3606        0.7160   \n",
       "789982   0.279  0.324  0.415    0.5830      0.8245      0.4520        0.7911   \n",
       "310153   0.260  0.312  0.375    0.5077      0.7921      0.3657        0.6498   \n",
       "\n",
       "         Pitches_Per_PA  Pitcher_Age       HR9     UBBr       SOr     SO/BB  \\\n",
       "1019201        3.701657         26.0  1.040927  0.08223  0.197993  2.585728   \n",
       "785968         4.275735         30.0  0.660000  0.05400  0.249000  4.580000   \n",
       "1362099        3.808044         26.0  1.040927  0.08223  0.197993  2.585728   \n",
       "789982         3.446708         26.0  0.470000  0.08100  0.218000  2.700000   \n",
       "310153         3.605556         30.0  1.020000  0.06800  0.169000  2.370000   \n",
       "\n",
       "         WHIP   ERA       FB%       GB%       LD%      POP%    pct_FF  \\\n",
       "1019201  1.30  3.87  0.248915  0.445141  0.229734  0.071781  0.358456   \n",
       "785968   1.10  2.46  0.235300  0.446100  0.223900  0.094800  0.464848   \n",
       "1362099  1.30  3.87  0.248915  0.445141  0.229734  0.071781  0.358456   \n",
       "789982   0.90  1.65  0.085400  0.758800  0.135700  0.020100  0.007608   \n",
       "310153   1.39  4.02  0.256200  0.417400  0.229300  0.097100  0.368818   \n",
       "\n",
       "           pct_FT    pct_FC    pct_SI    pct_CH    pct_CU    pct_SL    pct_KC  \\\n",
       "1019201  0.121086  0.056126  0.092324  0.100703  0.077817  0.141837  0.022735   \n",
       "785968   0.000000  0.254984  0.091028  0.030693  0.157922  0.000000  0.000000   \n",
       "1362099  0.121086  0.056126  0.092324  0.100703  0.077817  0.141837  0.022735   \n",
       "789982   0.000000  0.000000  0.898563  0.000000  0.000000  0.084531  0.000000   \n",
       "310153   0.191534  0.011735  0.000000  0.275356  0.000419  0.000000  0.147946   \n",
       "\n",
       "         score_position  isMiss_n-1_pit_type  isMiss_n-2_pit_type  \\\n",
       "1019201               0                    0                    0   \n",
       "785968                0                    0                    0   \n",
       "1362099               0                    0                    1   \n",
       "789982                1                    0                    0   \n",
       "310153                1                    0                    0   \n",
       "\n",
       "         isMiss_n-3_pit_type  isMiss_n-1_pit_resut  isMiss_n-2_pit_resut  \\\n",
       "1019201                    0                     0                     0   \n",
       "785968                     0                     0                     0   \n",
       "1362099                    1                     1                     1   \n",
       "789982                     0                     0                     0   \n",
       "310153                     0                     0                     0   \n",
       "\n",
       "         isMiss_n-3_pit_resut  isMiss_pit_feat  isMiss_bat_feat  \n",
       "1019201                     0                1                0  \n",
       "785968                      0                0                0  \n",
       "1362099                     1                1                0  \n",
       "789982                      0                0                0  \n",
       "310153                      0                0                0  "
      ]
     },
     "execution_count": 41,
     "metadata": {},
     "output_type": "execute_result"
    }
   ],
   "source": [
    "data_validation.head()"
   ]
  },
  {
   "cell_type": "markdown",
   "metadata": {},
   "source": [
    "### Random Forests "
   ]
  },
  {
   "cell_type": "code",
   "execution_count": 44,
   "metadata": {
    "collapsed": false
   },
   "outputs": [
    {
     "data": {
      "text/plain": [
       "RandomForestClassifier(bootstrap=True, class_weight=None, criterion='entropy',\n",
       "            max_depth=None, max_features=None, max_leaf_nodes=None,\n",
       "            min_samples_leaf=100, min_samples_split=2,\n",
       "            min_weight_fraction_leaf=0.0, n_estimators=100, n_jobs=-1,\n",
       "            oob_score=True, random_state=50, verbose=0, warm_start=False)"
      ]
     },
     "execution_count": 44,
     "metadata": {},
     "output_type": "execute_result"
    }
   ],
   "source": [
    "#random forest\n",
    "rf_clf = RandomForestClassifier(n_estimators=100, criterion='entropy', oob_score = True, n_jobs = -1,random_state =50, \n",
    "                                max_features = None, min_samples_leaf = 100)\n",
    "rf_clf.fit(data_train.drop(lab,1), data_train[lab])\n"
   ]
  },
  {
   "cell_type": "code",
   "execution_count": 45,
   "metadata": {
    "collapsed": false
   },
   "outputs": [
    {
     "data": {
      "text/plain": [
       "<matplotlib.text.Text at 0x11ddc0550>"
      ]
     },
     "execution_count": 45,
     "metadata": {},
     "output_type": "execute_result"
    },
    {
     "data": {
      "image/png": "[encoded data removed]",
      "text/plain": [
       "<matplotlib.figure.Figure at 0x11e241cf8>"
      ]
     },
     "metadata": {},
     "output_type": "display_data"
    }
   ],
   "source": [
    "fig, ax = plt.subplots(figsize=(15, 10))\n",
    "width=0.5\n",
    "ax.bar(np.arange(len(data.columns)-3), rf_clf.feature_importances_, width, color='r')\n",
    "ax.set_xticks(np.arange(len(rf_clf.feature_importances_)))\n",
    "ax.set_xticklabels(data_train.drop(lab,1).columns.values,rotation=90)\n",
    "plt.title('Feature Importance from RF')\n",
    "ax.set_ylabel('Normalized Importance')"
   ]
  },
  {
   "cell_type": "code",
   "execution_count": 46,
   "metadata": {
    "collapsed": false
   },
   "outputs": [
    {
     "data": {
      "text/plain": [
       "0.49187445162598359"
      ]
     },
     "execution_count": 46,
     "metadata": {},
     "output_type": "execute_result"
    }
   ],
   "source": [
    "rf_clf.score(data_validation.drop(lab,1), data_validation[lab])"
   ]
  },
  {
   "cell_type": "code",
   "execution_count": 47,
   "metadata": {
    "collapsed": false
   },
   "outputs": [
    {
     "data": {
      "text/plain": [
       "False    145361\n",
       "True     140712\n",
       "Name: pitch_type, dtype: int64"
      ]
     },
     "execution_count": 47,
     "metadata": {},
     "output_type": "execute_result"
    }
   ],
   "source": [
    "prediction = rf_clf.predict(data_validation.drop(lab,1))  == data_validation[lab]\n",
    "prediction.value_counts()"
   ]
  },
  {
   "cell_type": "markdown",
   "metadata": {},
   "source": [
    "### Decision Trees "
   ]
  },
  {
   "cell_type": "code",
   "execution_count": 59,
   "metadata": {
    "collapsed": false
   },
   "outputs": [],
   "source": [
    "#decision tree\n",
    "from sklearn import tree\n",
    "\n",
    "#dt_clf = tree.DecisionTreeClassifier(criterion='entropy', random_state =50, max_features = None, min_samples_leaf = 100)\n",
    "dt_clf = tree.DecisionTreeClassifier(criterion='entropy', random_state = None, max_features = None)\n",
    "dt_clf = dt_clf.fit(data_train.drop(lab,1),data_train[lab])"
   ]
  },
  {
   "cell_type": "code",
   "execution_count": 60,
   "metadata": {
    "collapsed": false
   },
   "outputs": [
    {
     "data": {
      "text/plain": [
       "<matplotlib.text.Text at 0x118ec8128>"
      ]
     },
     "execution_count": 60,
     "metadata": {},
     "output_type": "execute_result"
    },
    {
     "data": {
      "image/png": "[encoded data removed]",
      "text/plain": [
       "<matplotlib.figure.Figure at 0x118e8ce48>"
      ]
     },
     "metadata": {},
     "output_type": "display_data"
    }
   ],
   "source": [
    "fig, ax = plt.subplots(figsize=(15, 10))\n",
    "width=0.3\n",
    "ax.bar(np.arange(len(data.columns)-3), dt_clf.feature_importances_, width, color='r')\n",
    "ax.set_xticks(np.arange(len(dt_clf.feature_importances_)))\n",
    "ax.set_xticklabels(data_train.drop(lab, 1).columns.values,rotation=90)\n",
    "plt.title('Feature Importance from DT')\n",
    "ax.set_ylabel('Normalized Importance')"
   ]
  },
  {
   "cell_type": "code",
   "execution_count": 61,
   "metadata": {
    "collapsed": false
   },
   "outputs": [
    {
     "data": {
      "text/plain": [
       "0.39232992977316977"
      ]
     },
     "execution_count": 61,
     "metadata": {},
     "output_type": "execute_result"
    }
   ],
   "source": [
    "dt_clf.score(data_validation.drop(lab,1), data_validation[lab])"
   ]
  },
  {
   "cell_type": "code",
   "execution_count": 50,
   "metadata": {
    "collapsed": false
   },
   "outputs": [
    {
     "data": {
      "text/plain": [
       "False    147762\n",
       "True     138311\n",
       "Name: pitch_type, dtype: int64"
      ]
     },
     "execution_count": 50,
     "metadata": {},
     "output_type": "execute_result"
    }
   ],
   "source": [
    "prediction = dt_clf.predict(data_validation.drop(lab,1)) == data_validation[lab]\n",
    "prediction.value_counts()"
   ]
  },
  {
   "cell_type": "code",
   "execution_count": 62,
   "metadata": {
    "collapsed": false
   },
   "outputs": [
    {
     "name": "stdout",
     "output_type": "stream",
     "text": [
      "For data_validation, the test accuracy is 0.392329929773\n"
     ]
    }
   ],
   "source": [
    "from sklearn.metrics import confusion_matrix\n",
    "cm = confusion_matrix(dt_clf.predict(data_validation.drop(lab,1)), data_validation[lab])\n",
    "acc = (cm[0][0]+cm[1][1]+cm[2][2]+cm[3][3]+cm[4][4]+cm[5][5]+cm[6][6]+cm[7][7]+cm[8][8])/float(sum(sum(cm)))\n",
    "print (\"For data_validation, the test accuracy is\", acc)"
   ]
  },
  {
   "cell_type": "code",
   "execution_count": 52,
   "metadata": {
    "collapsed": false
   },
   "outputs": [
    {
     "data": {
      "text/plain": [
       "array([[ 3247,   991,   294,   279,   187,    42,   251,   309,     1],\n",
       "       [ 2455, 74628, 18926, 13282, 11348, 14403,  2720,  6233,  2676],\n",
       "       [  266,  7298, 11610,  2977,  1294,  1355,  1521,   453,   113],\n",
       "       [  579,  6742,  3698, 15846,  2601,  4366,   446,  1157,   700],\n",
       "       [   74,  2109,   715,   962,  3350,   720,   481,   607,     3],\n",
       "       [   61,  2891,   904,  1655,   880,  4379,   750,   548,   294],\n",
       "       [  710,  2804,  4344,   324,  1675,  3579, 18538,  1338,   907],\n",
       "       [  325,  2280,   500,   842,  1010,   877,   520,  5407,   384],\n",
       "       [    3,   763,    57,   204,     2,   242,   297,   158,  1306]])"
      ]
     },
     "execution_count": 52,
     "metadata": {},
     "output_type": "execute_result"
    }
   ],
   "source": [
    "cm"
   ]
  },
  {
   "cell_type": "code",
   "execution_count": 66,
   "metadata": {
    "collapsed": false
   },
   "outputs": [
    {
     "name": "stdout",
     "output_type": "stream",
     "text": [
      "0.458697605157 10 2 20\n",
      "0.468303544899 20 2 20\n",
      "0.480279509076 50 2 20\n",
      "0.482198599658 70 2 20\n",
      "0.483883484285 100 2 20\n",
      "0.48314591031 120 2 20\n",
      "0.482464266114 150 2 20\n"
     ]
    }
   ],
   "source": [
    "minleaf_sizes = [10, 20, 50, 70, 100, 120, 150]\n",
    "minsplit_sizes = [2]\n",
    "maxdepth_sizes = [20]\n",
    "\n",
    "\n",
    "for x in minleaf_sizes: \n",
    "    for y in minsplit_sizes: \n",
    "        for z in maxdepth_sizes: \n",
    "            dt_clf = tree.DecisionTreeClassifier(criterion='entropy', random_state =50, min_samples_leaf = x, \n",
    "                                                 min_samples_split = y, max_depth = z )\n",
    "            dt_clf = dt_clf.fit(data_train.drop(lab,1),data_train[lab])\n",
    "            print(dt_clf.score(data_validation.drop(lab,1), data_validation[lab]), x, y, z)\n",
    "            "
   ]
  },
  {
   "cell_type": "markdown",
   "metadata": {},
   "source": [
    "### Logistic Regression "
   ]
  },
  {
   "cell_type": "code",
   "execution_count": 55,
   "metadata": {
    "collapsed": false
   },
   "outputs": [
    {
     "name": "stderr",
     "output_type": "stream",
     "text": [
      "Process ForkPoolWorker-8:\n",
      "Process ForkPoolWorker-7:\n",
      "Process ForkPoolWorker-6:\n",
      "Traceback (most recent call last):\n",
      "Traceback (most recent call last):\n",
      "Traceback (most recent call last):\n",
      "  File \"/Users/Brenton/anaconda/lib/python3.5/multiprocessing/process.py\", line 249, in _bootstrap\n",
      "    self.run()\n",
      "  File \"/Users/Brenton/anaconda/lib/python3.5/multiprocessing/process.py\", line 249, in _bootstrap\n",
      "    self.run()\n",
      "  File \"/Users/Brenton/anaconda/lib/python3.5/multiprocessing/process.py\", line 93, in run\n",
      "    self._target(*self._args, **self._kwargs)\n"
     ]
    },
    {
     "ename": "KeyboardInterrupt",
     "evalue": "",
     "output_type": "error",
     "traceback": [
      "\u001b[0;31m---------------------------------------------------------------------------\u001b[0m",
      "\u001b[0;31mKeyboardInterrupt\u001b[0m                         Traceback (most recent call last)",
      "\u001b[0;32m<ipython-input-55-39672894e3bf>\u001b[0m in \u001b[0;36m<module>\u001b[0;34m()\u001b[0m\n\u001b[1;32m      1\u001b[0m \u001b[0;31m#logistic regression\u001b[0m\u001b[0;34m\u001b[0m\u001b[0;34m\u001b[0m\u001b[0m\n\u001b[1;32m      2\u001b[0m \u001b[0mlr\u001b[0m \u001b[0;34m=\u001b[0m \u001b[0mLogisticRegression\u001b[0m\u001b[0;34m(\u001b[0m\u001b[0mC\u001b[0m \u001b[0;34m=\u001b[0m \u001b[0;36m1e30\u001b[0m\u001b[0;34m,\u001b[0m \u001b[0mmulti_class\u001b[0m\u001b[0;34m=\u001b[0m\u001b[0;34m'multinomial'\u001b[0m\u001b[0;34m,\u001b[0m\u001b[0msolver\u001b[0m \u001b[0;34m=\u001b[0m \u001b[0;34m'newton-cg'\u001b[0m\u001b[0;34m,\u001b[0m \u001b[0mn_jobs\u001b[0m \u001b[0;34m=\u001b[0m \u001b[0;34m-\u001b[0m\u001b[0;36m1\u001b[0m\u001b[0;34m,\u001b[0m\u001b[0mrandom_state\u001b[0m \u001b[0;34m=\u001b[0m\u001b[0;36m50\u001b[0m\u001b[0;34m)\u001b[0m\u001b[0;34m\u001b[0m\u001b[0m\n\u001b[0;32m----> 3\u001b[0;31m \u001b[0mlr\u001b[0m\u001b[0;34m.\u001b[0m\u001b[0mfit\u001b[0m\u001b[0;34m(\u001b[0m\u001b[0mdata_train\u001b[0m\u001b[0;34m.\u001b[0m\u001b[0mdrop\u001b[0m\u001b[0;34m(\u001b[0m\u001b[0mlab\u001b[0m\u001b[0;34m,\u001b[0m\u001b[0;36m1\u001b[0m\u001b[0;34m)\u001b[0m\u001b[0;34m,\u001b[0m \u001b[0mdata_train\u001b[0m\u001b[0;34m[\u001b[0m\u001b[0mlab\u001b[0m\u001b[0;34m]\u001b[0m\u001b[0;34m)\u001b[0m\u001b[0;34m\u001b[0m\u001b[0m\n\u001b[0m",
      "\u001b[0;32m/Users/Brenton/anaconda/lib/python3.5/site-packages/sklearn/linear_model/logistic.py\u001b[0m in \u001b[0;36mfit\u001b[0;34m(self, X, y, sample_weight)\u001b[0m\n\u001b[1;32m   1205\u001b[0m                       \u001b[0mmax_squared_sum\u001b[0m\u001b[0;34m=\u001b[0m\u001b[0mmax_squared_sum\u001b[0m\u001b[0;34m,\u001b[0m\u001b[0;34m\u001b[0m\u001b[0m\n\u001b[1;32m   1206\u001b[0m                       sample_weight=sample_weight)\n\u001b[0;32m-> 1207\u001b[0;31m             for (class_, warm_start_coef_) in zip(classes_, warm_start_coef))\n\u001b[0m\u001b[1;32m   1208\u001b[0m \u001b[0;34m\u001b[0m\u001b[0m\n\u001b[1;32m   1209\u001b[0m         \u001b[0mfold_coefs_\u001b[0m\u001b[0;34m,\u001b[0m \u001b[0m_\u001b[0m\u001b[0;34m,\u001b[0m \u001b[0mn_iter_\u001b[0m \u001b[0;34m=\u001b[0m \u001b[0mzip\u001b[0m\u001b[0;34m(\u001b[0m\u001b[0;34m*\u001b[0m\u001b[0mfold_coefs_\u001b[0m\u001b[0;34m)\u001b[0m\u001b[0;34m\u001b[0m\u001b[0m\n",
      "\u001b[0;32m/Users/Brenton/anaconda/lib/python3.5/site-packages/sklearn/externals/joblib/parallel.py\u001b[0m in \u001b[0;36m__call__\u001b[0;34m(self, iterable)\u001b[0m\n\u001b[1;32m    808\u001b[0m                 \u001b[0;31m# consumption.\u001b[0m\u001b[0;34m\u001b[0m\u001b[0;34m\u001b[0m\u001b[0m\n\u001b[1;32m    809\u001b[0m                 \u001b[0mself\u001b[0m\u001b[0;34m.\u001b[0m\u001b[0m_iterating\u001b[0m \u001b[0;34m=\u001b[0m \u001b[0;32mFalse\u001b[0m\u001b[0;34m\u001b[0m\u001b[0m\n\u001b[0;32m--> 810\u001b[0;31m             \u001b[0mself\u001b[0m\u001b[0;34m.\u001b[0m\u001b[0mretrieve\u001b[0m\u001b[0;34m(\u001b[0m\u001b[0;34m)\u001b[0m\u001b[0;34m\u001b[0m\u001b[0m\n\u001b[0m\u001b[1;32m    811\u001b[0m             \u001b[0;31m# Make sure that we get a last message telling us we are done\u001b[0m\u001b[0;34m\u001b[0m\u001b[0;34m\u001b[0m\u001b[0m\n\u001b[1;32m    812\u001b[0m             \u001b[0melapsed_time\u001b[0m \u001b[0;34m=\u001b[0m \u001b[0mtime\u001b[0m\u001b[0;34m.\u001b[0m\u001b[0mtime\u001b[0m\u001b[0;34m(\u001b[0m\u001b[0;34m)\u001b[0m \u001b[0;34m-\u001b[0m \u001b[0mself\u001b[0m\u001b[0;34m.\u001b[0m\u001b[0m_start_time\u001b[0m\u001b[0;34m\u001b[0m\u001b[0m\n",
      "\u001b[0;32m/Users/Brenton/anaconda/lib/python3.5/site-packages/sklearn/externals/joblib/parallel.py\u001b[0m in \u001b[0;36mretrieve\u001b[0;34m(self)\u001b[0m\n\u001b[1;32m    755\u001b[0m                     \u001b[0;31m# a working pool as they expect.\u001b[0m\u001b[0;34m\u001b[0m\u001b[0;34m\u001b[0m\u001b[0m\n\u001b[1;32m    756\u001b[0m                     \u001b[0mself\u001b[0m\u001b[0;34m.\u001b[0m\u001b[0m_initialize_pool\u001b[0m\u001b[0;34m(\u001b[0m\u001b[0;34m)\u001b[0m\u001b[0;34m\u001b[0m\u001b[0m\n\u001b[0;32m--> 757\u001b[0;31m                 \u001b[0;32mraise\u001b[0m \u001b[0mexception\u001b[0m\u001b[0;34m\u001b[0m\u001b[0m\n\u001b[0m\u001b[1;32m    758\u001b[0m \u001b[0;34m\u001b[0m\u001b[0m\n\u001b[1;32m    759\u001b[0m     \u001b[0;32mdef\u001b[0m \u001b[0m__call__\u001b[0m\u001b[0;34m(\u001b[0m\u001b[0mself\u001b[0m\u001b[0;34m,\u001b[0m \u001b[0miterable\u001b[0m\u001b[0;34m)\u001b[0m\u001b[0;34m:\u001b[0m\u001b[0;34m\u001b[0m\u001b[0m\n",
      "\u001b[0;32m/Users/Brenton/anaconda/lib/python3.5/site-packages/sklearn/externals/joblib/parallel.py\u001b[0m in \u001b[0;36mretrieve\u001b[0;34m(self)\u001b[0m\n\u001b[1;32m    725\u001b[0m                 \u001b[0mjob\u001b[0m \u001b[0;34m=\u001b[0m \u001b[0mself\u001b[0m\u001b[0;34m.\u001b[0m\u001b[0m_jobs\u001b[0m\u001b[0;34m.\u001b[0m\u001b[0mpop\u001b[0m\u001b[0;34m(\u001b[0m\u001b[0;36m0\u001b[0m\u001b[0;34m)\u001b[0m\u001b[0;34m\u001b[0m\u001b[0m\n\u001b[1;32m    726\u001b[0m             \u001b[0;32mtry\u001b[0m\u001b[0;34m:\u001b[0m\u001b[0;34m\u001b[0m\u001b[0m\n\u001b[0;32m--> 727\u001b[0;31m                 \u001b[0mself\u001b[0m\u001b[0;34m.\u001b[0m\u001b[0m_output\u001b[0m\u001b[0;34m.\u001b[0m\u001b[0mextend\u001b[0m\u001b[0;34m(\u001b[0m\u001b[0mjob\u001b[0m\u001b[0;34m.\u001b[0m\u001b[0mget\u001b[0m\u001b[0;34m(\u001b[0m\u001b[0;34m)\u001b[0m\u001b[0;34m)\u001b[0m\u001b[0;34m\u001b[0m\u001b[0m\n\u001b[0m\u001b[1;32m    728\u001b[0m             \u001b[0;32mexcept\u001b[0m \u001b[0mtuple\u001b[0m\u001b[0;34m(\u001b[0m\u001b[0mself\u001b[0m\u001b[0;34m.\u001b[0m\u001b[0mexceptions\u001b[0m\u001b[0;34m)\u001b[0m \u001b[0;32mas\u001b[0m \u001b[0mexception\u001b[0m\u001b[0;34m:\u001b[0m\u001b[0;34m\u001b[0m\u001b[0m\n\u001b[1;32m    729\u001b[0m                 \u001b[0;31m# Stop dispatching any new job in the async callback thread\u001b[0m\u001b[0;34m\u001b[0m\u001b[0;34m\u001b[0m\u001b[0m\n",
      "\u001b[0;32m/Users/Brenton/anaconda/lib/python3.5/multiprocessing/pool.py\u001b[0m in \u001b[0;36mget\u001b[0;34m(self, timeout)\u001b[0m\n\u001b[1;32m    600\u001b[0m \u001b[0;34m\u001b[0m\u001b[0m\n\u001b[1;32m    601\u001b[0m     \u001b[0;32mdef\u001b[0m \u001b[0mget\u001b[0m\u001b[0;34m(\u001b[0m\u001b[0mself\u001b[0m\u001b[0;34m,\u001b[0m \u001b[0mtimeout\u001b[0m\u001b[0;34m=\u001b[0m\u001b[0;32mNone\u001b[0m\u001b[0;34m)\u001b[0m\u001b[0;34m:\u001b[0m\u001b[0;34m\u001b[0m\u001b[0m\n\u001b[0;32m--> 602\u001b[0;31m         \u001b[0mself\u001b[0m\u001b[0;34m.\u001b[0m\u001b[0mwait\u001b[0m\u001b[0;34m(\u001b[0m\u001b[0mtimeout\u001b[0m\u001b[0;34m)\u001b[0m\u001b[0;34m\u001b[0m\u001b[0m\n\u001b[0m\u001b[1;32m    603\u001b[0m         \u001b[0;32mif\u001b[0m \u001b[0;32mnot\u001b[0m \u001b[0mself\u001b[0m\u001b[0;34m.\u001b[0m\u001b[0mready\u001b[0m\u001b[0;34m(\u001b[0m\u001b[0;34m)\u001b[0m\u001b[0;34m:\u001b[0m\u001b[0;34m\u001b[0m\u001b[0m\n\u001b[1;32m    604\u001b[0m             \u001b[0;32mraise\u001b[0m \u001b[0mTimeoutError\u001b[0m\u001b[0;34m\u001b[0m\u001b[0m\n",
      "\u001b[0;32m/Users/Brenton/anaconda/lib/python3.5/multiprocessing/pool.py\u001b[0m in \u001b[0;36mwait\u001b[0;34m(self, timeout)\u001b[0m\n\u001b[1;32m    597\u001b[0m \u001b[0;34m\u001b[0m\u001b[0m\n\u001b[1;32m    598\u001b[0m     \u001b[0;32mdef\u001b[0m \u001b[0mwait\u001b[0m\u001b[0;34m(\u001b[0m\u001b[0mself\u001b[0m\u001b[0;34m,\u001b[0m \u001b[0mtimeout\u001b[0m\u001b[0;34m=\u001b[0m\u001b[0;32mNone\u001b[0m\u001b[0;34m)\u001b[0m\u001b[0;34m:\u001b[0m\u001b[0;34m\u001b[0m\u001b[0m\n\u001b[0;32m--> 599\u001b[0;31m         \u001b[0mself\u001b[0m\u001b[0;34m.\u001b[0m\u001b[0m_event\u001b[0m\u001b[0;34m.\u001b[0m\u001b[0mwait\u001b[0m\u001b[0;34m(\u001b[0m\u001b[0mtimeout\u001b[0m\u001b[0;34m)\u001b[0m\u001b[0;34m\u001b[0m\u001b[0m\n\u001b[0m\u001b[1;32m    600\u001b[0m \u001b[0;34m\u001b[0m\u001b[0m\n\u001b[1;32m    601\u001b[0m     \u001b[0;32mdef\u001b[0m \u001b[0mget\u001b[0m\u001b[0;34m(\u001b[0m\u001b[0mself\u001b[0m\u001b[0;34m,\u001b[0m \u001b[0mtimeout\u001b[0m\u001b[0;34m=\u001b[0m\u001b[0;32mNone\u001b[0m\u001b[0;34m)\u001b[0m\u001b[0;34m:\u001b[0m\u001b[0;34m\u001b[0m\u001b[0m\n",
      "\u001b[0;32m/Users/Brenton/anaconda/lib/python3.5/threading.py\u001b[0m in \u001b[0;36mwait\u001b[0;34m(self, timeout)\u001b[0m\n\u001b[1;32m    547\u001b[0m             \u001b[0msignaled\u001b[0m \u001b[0;34m=\u001b[0m \u001b[0mself\u001b[0m\u001b[0;34m.\u001b[0m\u001b[0m_flag\u001b[0m\u001b[0;34m\u001b[0m\u001b[0m\n\u001b[1;32m    548\u001b[0m             \u001b[0;32mif\u001b[0m \u001b[0;32mnot\u001b[0m \u001b[0msignaled\u001b[0m\u001b[0;34m:\u001b[0m\u001b[0;34m\u001b[0m\u001b[0m\n\u001b[0;32m--> 549\u001b[0;31m                 \u001b[0msignaled\u001b[0m \u001b[0;34m=\u001b[0m \u001b[0mself\u001b[0m\u001b[0;34m.\u001b[0m\u001b[0m_cond\u001b[0m\u001b[0;34m.\u001b[0m\u001b[0mwait\u001b[0m\u001b[0;34m(\u001b[0m\u001b[0mtimeout\u001b[0m\u001b[0;34m)\u001b[0m\u001b[0;34m\u001b[0m\u001b[0m\n\u001b[0m\u001b[1;32m    550\u001b[0m             \u001b[0;32mreturn\u001b[0m \u001b[0msignaled\u001b[0m\u001b[0;34m\u001b[0m\u001b[0m\n\u001b[1;32m    551\u001b[0m \u001b[0;34m\u001b[0m\u001b[0m\n",
      "\u001b[0;32m/Users/Brenton/anaconda/lib/python3.5/threading.py\u001b[0m in \u001b[0;36mwait\u001b[0;34m(self, timeout)\u001b[0m\n\u001b[1;32m    291\u001b[0m         \u001b[0;32mtry\u001b[0m\u001b[0;34m:\u001b[0m    \u001b[0;31m# restore state no matter what (e.g., KeyboardInterrupt)\u001b[0m\u001b[0;34m\u001b[0m\u001b[0m\n\u001b[1;32m    292\u001b[0m             \u001b[0;32mif\u001b[0m \u001b[0mtimeout\u001b[0m \u001b[0;32mis\u001b[0m \u001b[0;32mNone\u001b[0m\u001b[0;34m:\u001b[0m\u001b[0;34m\u001b[0m\u001b[0m\n\u001b[0;32m--> 293\u001b[0;31m                 \u001b[0mwaiter\u001b[0m\u001b[0;34m.\u001b[0m\u001b[0macquire\u001b[0m\u001b[0;34m(\u001b[0m\u001b[0;34m)\u001b[0m\u001b[0;34m\u001b[0m\u001b[0m\n\u001b[0m\u001b[1;32m    294\u001b[0m                 \u001b[0mgotit\u001b[0m \u001b[0;34m=\u001b[0m \u001b[0;32mTrue\u001b[0m\u001b[0;34m\u001b[0m\u001b[0m\n\u001b[1;32m    295\u001b[0m             \u001b[0;32melse\u001b[0m\u001b[0;34m:\u001b[0m\u001b[0;34m\u001b[0m\u001b[0m\n",
      "\u001b[0;31mKeyboardInterrupt\u001b[0m: "
     ]
    }
   ],
   "source": [
    "#logistic regression\n",
    "lr = LogisticRegression(C = 1e30, multi_class='multinomial',solver = 'newton-cg', n_jobs = -1,random_state =50)\n",
    "lr.fit(data_train.drop(lab,1), data_train[lab])"
   ]
  },
  {
   "cell_type": "code",
   "execution_count": null,
   "metadata": {
    "collapsed": false
   },
   "outputs": [],
   "source": [
    "from sklearn.metrics import accuracy_score\n",
    "\n",
    "accuracy_score(data_train[lab], lr.predict(data_train.drop(lab,1)))"
   ]
  },
  {
   "cell_type": "code",
   "execution_count": null,
   "metadata": {
    "collapsed": false
   },
   "outputs": [],
   "source": [
    "from sklearn.multiclass import OneVsRestClassifier\n",
    "from sklearn.multiclass import OneVsOneClassifier\n",
    "OVR = OneVsRestClassifier(LogisticRegression()).fit(data_train.drop(lab,1), data_train[lab])\n",
    "#OVO = OneVsOneClassifier(LogisticRegression()).fit(data_train.drop(lab,1), data_train[lab])\n",
    "\n",
    "print ('One vs rest accuracy: %.3f' % OVR.score(data_validation.drop(lab,1), data_validation[lab]))\n",
    "#print ('One vs one accuracy: %.3f' % OVO.score(data_validation.drop(lab,1), data_validation[lab]))\n"
   ]
  },
  {
   "cell_type": "code",
   "execution_count": null,
   "metadata": {
    "collapsed": true
   },
   "outputs": [],
   "source": [
    "#logloss matrics for multiclass\n",
    "#global, pitcher-base\n",
    "#cluster pitchers\n",
    "#feaeture engineering\n",
    "#LR for single pitcher vs. RF. Nonlinearity\n",
    "#proof of chosing final model, by: charts(feature importance), graphs, tables, accuracy, logloss\n",
    "#percesion analysis:degsign a matrix to set a threshold for whether make a prediction.\n",
    "#decision function, process \n"
   ]
  }
 ],
 "metadata": {
  "anaconda-cloud": {},
  "kernelspec": {
   "display_name": "Python 3",
   "language": "python",
   "name": "python3"
  },
  "language_info": {
   "codemirror_mode": {
    "name": "ipython",
    "version": 3
   },
   "file_extension": ".py",
   "mimetype": "text/x-python",
   "name": "python",
   "nbconvert_exporter": "python",
   "pygments_lexer": "ipython3",
   "version": "3.5.2"
  }
 },
 "nbformat": 4,
 "nbformat_minor": 0
}
