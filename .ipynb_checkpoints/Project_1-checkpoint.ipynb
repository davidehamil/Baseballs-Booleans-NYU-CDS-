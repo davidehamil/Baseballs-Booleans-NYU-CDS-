{
 "cells": [
  {
   "cell_type": "markdown",
   "metadata": {},
   "source": [
    "Features:\n",
    "- Pitch Type: t-1, t-2, t-3 (FF, SL, SI, CU, FS, CH)\n",
    "- Count (Categorical)\n",
    "- Pitcher Characteristics\n",
    "    - Right Handed or Left Handed\n",
    "    - % of pitches that are Fastballs\n",
    "        - From the dataset?\n",
    "    - Batting average for that seasons\n",
    "        - Moving Average yearly?\n",
    "        - Batting Average in Dataset\n",
    "- Number of Outs\n",
    "- Outcome of Previous Pitch (Ball, Swinging Strike, Called Strike, Foul)\n",
    "- Type of pitch thrown in 'Final' Pitch of Last at-bat (If curveball was crushed on previous at-bat, less likely to use that pitch) (OPTIONAL)\n",
    "- Outcome of last atbat (OPTIONAL)\n",
    "- Number of base runners\n",
    "    - 1 if scoring position is (2,3,4,5,6)\n",
    "    - 0 if not (0,1)\n",
    "- Batter Characteristics\n",
    "    - Right Handed or Left Handed\n",
    "    - Batting Average for that season?\n",
    "- Pitcher's pitch count\n",
    "    - Find Game ID\n",
    "    - Find Pitcher ID\n",
    "    - len(GameID=x, PitcherID=y)\n",
    "- Batting Order Position\n",
    "    \n",
    "    \n",
    "\n",
    "\n",
    "Variables:\n",
    "- Convert count to categorical\n",
    "- Previous Pitch\n",
    "\n",
    "\n",
    "\n",
    "Can be deleted:\n",
    "- x\n",
    "- y\n",
    "- pfx_x\n",
    "- pfx_z\n",
    "- x0\n",
    "- y0\n",
    "- z0\n",
    "- vx0\n",
    "- vy0\n",
    "- vz0\n",
    "- ax\n",
    "- ay\n",
    "- az\n",
    "- zone\n",
    "- break_y\n",
    "- break_angle\n",
    "- break_length\n",
    "- spin_dir\n",
    "- spin_rate\n",
    "- game_type_des\n",
    "    - 'Spring Training'\n",
    "    - 'Unknown'"
   ]
  },
  {
   "cell_type": "code",
   "execution_count": 1,
   "metadata": {
    "collapsed": true
   },
   "outputs": [],
   "source": [
    "import pandas as pd\n",
    "import numpy as np"
   ]
  },
  {
   "cell_type": "code",
   "execution_count": 6,
   "metadata": {
    "collapsed": false
   },
   "outputs": [],
   "source": [
    "data=pd.read_csv('/Users/mkulunyar/Dropbox/DataScience_Project/PythonScraper/pitch_table.csv')"
   ]
  },
  {
   "cell_type": "code",
   "execution_count": 7,
   "metadata": {
    "collapsed": false
   },
   "outputs": [
    {
     "data": {
      "text/html": [
       "<div>\n",
       "<table border=\"1\" class=\"dataframe\">\n",
       "  <thead>\n",
       "    <tr style=\"text-align: right;\">\n",
       "      <th></th>\n",
       "      <th>retro_game_id</th>\n",
       "      <th>year</th>\n",
       "      <th>st_fl</th>\n",
       "      <th>regseason_fl</th>\n",
       "      <th>playoffs_fl</th>\n",
       "      <th>game_type</th>\n",
       "      <th>game_type_des</th>\n",
       "      <th>game_id</th>\n",
       "      <th>home_team_id</th>\n",
       "      <th>home_team_lg</th>\n",
       "      <th>...</th>\n",
       "      <th>break_y</th>\n",
       "      <th>break_angle</th>\n",
       "      <th>break_length</th>\n",
       "      <th>pitch_type</th>\n",
       "      <th>pitch_type_seq</th>\n",
       "      <th>type_conf</th>\n",
       "      <th>zone</th>\n",
       "      <th>spin_dir</th>\n",
       "      <th>spin_rate</th>\n",
       "      <th>sv_id</th>\n",
       "    </tr>\n",
       "  </thead>\n",
       "  <tbody>\n",
       "    <tr>\n",
       "      <th>0</th>\n",
       "      <td>NYA201610010</td>\n",
       "      <td>2016</td>\n",
       "      <td>F</td>\n",
       "      <td>T</td>\n",
       "      <td>F</td>\n",
       "      <td>R</td>\n",
       "      <td>Regular Season</td>\n",
       "      <td>449268</td>\n",
       "      <td>nya</td>\n",
       "      <td>AL</td>\n",
       "      <td>...</td>\n",
       "      <td>23.8</td>\n",
       "      <td>48.5</td>\n",
       "      <td>3.1</td>\n",
       "      <td>FF</td>\n",
       "      <td>FF</td>\n",
       "      <td>0.911</td>\n",
       "      <td>7.0</td>\n",
       "      <td>209.386</td>\n",
       "      <td>2798.637</td>\n",
       "      <td>161001_160823</td>\n",
       "    </tr>\n",
       "    <tr>\n",
       "      <th>1</th>\n",
       "      <td>NYA201610010</td>\n",
       "      <td>2016</td>\n",
       "      <td>F</td>\n",
       "      <td>T</td>\n",
       "      <td>F</td>\n",
       "      <td>R</td>\n",
       "      <td>Regular Season</td>\n",
       "      <td>449268</td>\n",
       "      <td>nya</td>\n",
       "      <td>AL</td>\n",
       "      <td>...</td>\n",
       "      <td>23.8</td>\n",
       "      <td>38.3</td>\n",
       "      <td>3.2</td>\n",
       "      <td>FF</td>\n",
       "      <td>FF|FF</td>\n",
       "      <td>0.909</td>\n",
       "      <td>7.0</td>\n",
       "      <td>208.228</td>\n",
       "      <td>2492.309</td>\n",
       "      <td>161001_160839</td>\n",
       "    </tr>\n",
       "    <tr>\n",
       "      <th>2</th>\n",
       "      <td>NYA201610010</td>\n",
       "      <td>2016</td>\n",
       "      <td>F</td>\n",
       "      <td>T</td>\n",
       "      <td>F</td>\n",
       "      <td>R</td>\n",
       "      <td>Regular Season</td>\n",
       "      <td>449268</td>\n",
       "      <td>nya</td>\n",
       "      <td>AL</td>\n",
       "      <td>...</td>\n",
       "      <td>23.8</td>\n",
       "      <td>26.7</td>\n",
       "      <td>3.2</td>\n",
       "      <td>FF</td>\n",
       "      <td>FF</td>\n",
       "      <td>0.904</td>\n",
       "      <td>11.0</td>\n",
       "      <td>204.078</td>\n",
       "      <td>2130.336</td>\n",
       "      <td>161001_160919</td>\n",
       "    </tr>\n",
       "    <tr>\n",
       "      <th>3</th>\n",
       "      <td>NYA201610010</td>\n",
       "      <td>2016</td>\n",
       "      <td>F</td>\n",
       "      <td>T</td>\n",
       "      <td>F</td>\n",
       "      <td>R</td>\n",
       "      <td>Regular Season</td>\n",
       "      <td>449268</td>\n",
       "      <td>nya</td>\n",
       "      <td>AL</td>\n",
       "      <td>...</td>\n",
       "      <td>23.8</td>\n",
       "      <td>42.4</td>\n",
       "      <td>2.9</td>\n",
       "      <td>FF</td>\n",
       "      <td>FF|FF</td>\n",
       "      <td>0.910</td>\n",
       "      <td>7.0</td>\n",
       "      <td>205.515</td>\n",
       "      <td>2663.836</td>\n",
       "      <td>161001_160932</td>\n",
       "    </tr>\n",
       "    <tr>\n",
       "      <th>4</th>\n",
       "      <td>NYA201610010</td>\n",
       "      <td>2016</td>\n",
       "      <td>F</td>\n",
       "      <td>T</td>\n",
       "      <td>F</td>\n",
       "      <td>R</td>\n",
       "      <td>Regular Season</td>\n",
       "      <td>449268</td>\n",
       "      <td>nya</td>\n",
       "      <td>AL</td>\n",
       "      <td>...</td>\n",
       "      <td>23.8</td>\n",
       "      <td>40.2</td>\n",
       "      <td>2.7</td>\n",
       "      <td>FF</td>\n",
       "      <td>FF|FF|FF</td>\n",
       "      <td>0.911</td>\n",
       "      <td>11.0</td>\n",
       "      <td>204.741</td>\n",
       "      <td>2506.671</td>\n",
       "      <td>161001_160945</td>\n",
       "    </tr>\n",
       "  </tbody>\n",
       "</table>\n",
       "<p>5 rows × 64 columns</p>\n",
       "</div>"
      ],
      "text/plain": [
       "  retro_game_id  year st_fl regseason_fl playoffs_fl game_type  \\\n",
       "0  NYA201610010  2016     F            T           F         R   \n",
       "1  NYA201610010  2016     F            T           F         R   \n",
       "2  NYA201610010  2016     F            T           F         R   \n",
       "3  NYA201610010  2016     F            T           F         R   \n",
       "4  NYA201610010  2016     F            T           F         R   \n",
       "\n",
       "    game_type_des  game_id home_team_id home_team_lg      ...       break_y  \\\n",
       "0  Regular Season   449268          nya           AL      ...          23.8   \n",
       "1  Regular Season   449268          nya           AL      ...          23.8   \n",
       "2  Regular Season   449268          nya           AL      ...          23.8   \n",
       "3  Regular Season   449268          nya           AL      ...          23.8   \n",
       "4  Regular Season   449268          nya           AL      ...          23.8   \n",
       "\n",
       "  break_angle break_length  pitch_type  pitch_type_seq  type_conf  zone  \\\n",
       "0        48.5          3.1          FF              FF      0.911   7.0   \n",
       "1        38.3          3.2          FF           FF|FF      0.909   7.0   \n",
       "2        26.7          3.2          FF              FF      0.904  11.0   \n",
       "3        42.4          2.9          FF           FF|FF      0.910   7.0   \n",
       "4        40.2          2.7          FF        FF|FF|FF      0.911  11.0   \n",
       "\n",
       "  spin_dir  spin_rate          sv_id  \n",
       "0  209.386   2798.637  161001_160823  \n",
       "1  208.228   2492.309  161001_160839  \n",
       "2  204.078   2130.336  161001_160919  \n",
       "3  205.515   2663.836  161001_160932  \n",
       "4  204.741   2506.671  161001_160945  \n",
       "\n",
       "[5 rows x 64 columns]"
      ]
     },
     "execution_count": 7,
     "metadata": {},
     "output_type": "execute_result"
    }
   ],
   "source": [
    "data.head()"
   ]
  },
  {
   "cell_type": "code",
   "execution_count": 8,
   "metadata": {
    "collapsed": false
   },
   "outputs": [],
   "source": [
    "#Cleaning\n",
    "#Deleting the features \n",
    "data_new=data.drop(['x', 'y', 'pfx_x', 'pfx_z', 'x0', 'y0', 'z0', 'vx0', 'vy0', 'vz0',\n",
    "                  'ax', 'ay', 'az', 'zone', 'break_y', 'break_angle', 'break_length', \n",
    "                  'spin_dir', 'spin_rate'],1)\n",
    "\n",
    "#Deleting 'Unknown' and 'Spring Training'\n",
    "clean_pitch=data_new[(data_new['game_type_des']!='Unknown') & \n",
    "                     (data_new['game_type_des']!='Spring Training')]"
   ]
  },
  {
   "cell_type": "code",
   "execution_count": 9,
   "metadata": {
    "collapsed": false
   },
   "outputs": [
    {
     "data": {
      "text/plain": [
       "(2169466, 2336082)"
      ]
     },
     "execution_count": 9,
     "metadata": {},
     "output_type": "execute_result"
    }
   ],
   "source": [
    "len(clean_pitch), len(data)"
   ]
  },
  {
   "cell_type": "code",
   "execution_count": null,
   "metadata": {
    "collapsed": false
   },
   "outputs": [],
   "source": []
  },
  {
   "cell_type": "code",
   "execution_count": null,
   "metadata": {
    "collapsed": false
   },
   "outputs": [],
   "source": []
  },
  {
   "cell_type": "code",
   "execution_count": null,
   "metadata": {
    "collapsed": false
   },
   "outputs": [],
   "source": []
  },
  {
   "cell_type": "code",
   "execution_count": null,
   "metadata": {
    "collapsed": false
   },
   "outputs": [],
   "source": []
  },
  {
   "cell_type": "code",
   "execution_count": null,
   "metadata": {
    "collapsed": false
   },
   "outputs": [],
   "source": []
  },
  {
   "cell_type": "code",
   "execution_count": null,
   "metadata": {
    "collapsed": false
   },
   "outputs": [],
   "source": []
  },
  {
   "cell_type": "code",
   "execution_count": null,
   "metadata": {
    "collapsed": false
   },
   "outputs": [],
   "source": []
  },
  {
   "cell_type": "code",
   "execution_count": null,
   "metadata": {
    "collapsed": false
   },
   "outputs": [],
   "source": []
  },
  {
   "cell_type": "code",
   "execution_count": null,
   "metadata": {
    "collapsed": true
   },
   "outputs": [],
   "source": []
  }
 ],
 "metadata": {
  "anaconda-cloud": {},
  "kernelspec": {
   "display_name": "Python [Root]",
   "language": "python",
   "name": "Python [Root]"
  },
  "language_info": {
   "codemirror_mode": {
    "name": "ipython",
    "version": 2
   },
   "file_extension": ".py",
   "mimetype": "text/x-python",
   "name": "python",
   "nbconvert_exporter": "python",
   "pygments_lexer": "ipython2",
   "version": "2.7.12"
  }
 },
 "nbformat": 4,
 "nbformat_minor": 0
}
